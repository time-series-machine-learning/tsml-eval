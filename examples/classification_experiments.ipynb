{
 "cells": [
  {
   "cell_type": "markdown",
   "source": [
    "# Time Series Classification Experiments\n",
    "\n",
    "In this notebook we will show how to run a simple time series classification experiment using the `tsml-eval` package. Time series classification is the task of predicting a class label for a given time series. This is a common task in many domains, such as medical and industrial settings.\n",
    "\n",
    "<img src=\"./images/TSC.png\" width=\"600\" alt=\"time series classification\" style=\"margin:20px 20px\">"
   ],
   "metadata": {
    "collapsed": false
   }
  },
  {
   "cell_type": "code",
   "source": [
    "import numpy as np\n",
    "import pandas as pd\n",
    "from aeon.benchmarking import get_estimator_results\n",
    "from aeon.classification import DummyClassifier\n",
    "from aeon.datasets import load_classification\n",
    "from aeon.visualisation import plot_critical_difference\n",
    "from sklearn.metrics import accuracy_score\n",
    "from tsml.datasets import load_minimal_chinatown\n",
    "\n",
    "from tsml_eval.evaluation.storage import load_classifier_results\n",
    "from tsml_eval.experiments import (\n",
    "    experiments,\n",
    "    get_classifier_by_name,\n",
    "    run_classification_experiment,\n",
    ")"
   ],
   "metadata": {
    "collapsed": false,
    "ExecuteTime": {
     "end_time": "2024-04-25T11:13:27.561711Z",
     "start_time": "2024-04-25T11:13:25.110267Z"
    }
   },
   "outputs": [],
   "execution_count": 1
  },
  {
   "cell_type": "code",
   "source": [
    "X_train, y_train = load_minimal_chinatown(split=\"train\")\n",
    "X_test, y_test = load_minimal_chinatown(split=\"test\")"
   ],
   "metadata": {
    "collapsed": false,
    "ExecuteTime": {
     "end_time": "2024-04-25T11:13:27.567720Z",
     "start_time": "2024-04-25T11:13:27.562709Z"
    }
   },
   "outputs": [],
   "execution_count": 2
  },
  {
   "cell_type": "code",
   "source": [
    "# set_classifier can be used to find various classifiers by string, but\n",
    "# any aeon, tsml or sklearn classifier can be used in the experiments function\n",
    "classifier = get_classifier_by_name(\"DummyClassifier\")\n",
    "\n",
    "# record memory usage every 0.1 seconds, just here for notebook speed\n",
    "# does not need to be changed for usage\n",
    "experiments.MEMRECORD_INTERVAL = 0.1\n",
    "\n",
    "run_classification_experiment(\n",
    "    X_train,\n",
    "    y_train,\n",
    "    X_test,\n",
    "    y_test,\n",
    "    classifier,\n",
    "    \"./generated_results/\",\n",
    "    dataset_name=\"Chinatown\",\n",
    "    resample_id=0,\n",
    ")"
   ],
   "metadata": {
    "collapsed": false,
    "ExecuteTime": {
     "end_time": "2024-04-25T11:13:28.625866Z",
     "start_time": "2024-04-25T11:13:27.568693Z"
    }
   },
   "outputs": [],
   "execution_count": 3
  },
  {
   "cell_type": "markdown",
   "source": [
    "A function is also available to load the dataset as well as run an experiment, see `load_and_run_classification_experiment` in `tsml_eval.experiments`.\n",
    "\n",
    "Both experiment functions will output a results file in the `{results_dir}/{classifier_name}/Predictions/{dataset_name}/` directory. These files can be loaded individually, or used as a collection in the `evaluation` module. See the [evaluation](evaluation.ipynb) notebook for more details."
   ],
   "metadata": {
    "collapsed": false
   }
  },
  {
   "cell_type": "code",
   "source": [
    "cr = load_classifier_results(\n",
    "    \"./generated_results/DummyClassifier/Predictions/Chinatown/testResample0.csv\"\n",
    ")\n",
    "print(cr.predictions)\n",
    "print(cr.accuracy)\n",
    "print(cr.balanced_accuracy)\n",
    "print(cr.auroc_score)\n",
    "print(cr.log_loss)"
   ],
   "metadata": {
    "collapsed": false,
    "ExecuteTime": {
     "end_time": "2024-04-25T11:13:28.663766Z",
     "start_time": "2024-04-25T11:13:28.626864Z"
    }
   },
   "outputs": [
    {
     "name": "stdout",
     "output_type": "stream",
     "text": [
      "[0. 0. 0. 0. 0. 0. 0. 0. 0. 0. 0. 0. 0. 0. 0. 0. 0. 0. 0. 0.]\n",
      "0.5\n",
      "0.5\n",
      "0.5\n",
      "0.6931471805599453\n"
     ]
    }
   ],
   "execution_count": 4
  },
  {
   "cell_type": "markdown",
   "source": [
    "A common use-case is wanting to compare a new algorithm against provided benchmark results. The tsml group stores their publication results and provides an `aeon` function to load them. An example of this is shown below for classification."
   ],
   "metadata": {
    "collapsed": false
   }
  },
  {
   "cell_type": "code",
   "source": [
    "clf = DummyClassifier()\n",
    "datasets = [\"ArrowHead\", \"GunPoint\", \"ItalyPowerDemand\", \"Chinatown\", \"BeetleFly\"]\n",
    "\n",
    "# find accuracy for each of our datasets on our estimator\n",
    "results = {}\n",
    "for d in datasets:\n",
    "    train_X, train_y = load_classification(d, split=\"train\")\n",
    "    test_X, test_y = load_classification(d, split=\"test\")\n",
    "    clf.fit(train_X, train_y)\n",
    "    y_pred = clf.predict(test_X)\n",
    "    results[d] = accuracy_score(test_y, y_pred)\n",
    "\n",
    "results"
   ],
   "metadata": {
    "collapsed": false,
    "ExecuteTime": {
     "end_time": "2024-04-25T11:13:28.737595Z",
     "start_time": "2024-04-25T11:13:28.664765Z"
    }
   },
   "outputs": [
    {
     "data": {
      "text/plain": [
       "{'ArrowHead': 0.3942857142857143,\n",
       " 'GunPoint': 0.49333333333333335,\n",
       " 'ItalyPowerDemand': 0.49854227405247814,\n",
       " 'Chinatown': 0.27405247813411077,\n",
       " 'BeetleFly': 0.5}"
      ]
     },
     "execution_count": 5,
     "metadata": {},
     "output_type": "execute_result"
    }
   ],
   "execution_count": 5
  },
  {
   "cell_type": "code",
   "source": [
    "benchmarks = [\"STC\", \"DrCIF\", \"HC2\"]\n",
    "res = get_estimator_results(\n",
    "    datasets=datasets, estimators=benchmarks, task=\"classification\", measure=\"accuracy\"\n",
    ")\n",
    "res"
   ],
   "metadata": {
    "collapsed": false,
    "ExecuteTime": {
     "end_time": "2024-04-25T11:13:28.902138Z",
     "start_time": "2024-04-25T11:13:28.738565Z"
    }
   },
   "outputs": [
    {
     "data": {
      "text/plain": [
       "{'STC': {'ArrowHead': 0.7828571428571428,\n",
       "  'GunPoint': 1.0,\n",
       "  'ItalyPowerDemand': 0.9620991253644317,\n",
       "  'Chinatown': 0.9737609329446064,\n",
       "  'BeetleFly': 0.95},\n",
       " 'DrCIF': {'ArrowHead': 0.84,\n",
       "  'GunPoint': 0.9933333333333332,\n",
       "  'ItalyPowerDemand': 0.9689018464528668,\n",
       "  'Chinatown': 0.9854227405247812,\n",
       "  'BeetleFly': 0.9},\n",
       " 'HC2': {'ArrowHead': 0.8685714285714285,\n",
       "  'GunPoint': 1.0,\n",
       "  'ItalyPowerDemand': 0.9698736637512148,\n",
       "  'Chinatown': 0.9825072886297376,\n",
       "  'BeetleFly': 0.95}}"
      ]
     },
     "execution_count": 6,
     "metadata": {},
     "output_type": "execute_result"
    }
   ],
   "execution_count": 6
  },
  {
   "cell_type": "code",
   "source": [
    "res[\"Dummy\"] = results\n",
    "table = pd.DataFrame(res)\n",
    "table"
   ],
   "metadata": {
    "collapsed": false,
    "ExecuteTime": {
     "end_time": "2024-04-25T11:13:28.913109Z",
     "start_time": "2024-04-25T11:13:28.903135Z"
    }
   },
   "outputs": [
    {
     "data": {
      "text/plain": [
       "                       STC     DrCIF       HC2     Dummy\n",
       "ArrowHead         0.782857  0.840000  0.868571  0.394286\n",
       "GunPoint          1.000000  0.993333  1.000000  0.493333\n",
       "ItalyPowerDemand  0.962099  0.968902  0.969874  0.498542\n",
       "Chinatown         0.973761  0.985423  0.982507  0.274052\n",
       "BeetleFly         0.950000  0.900000  0.950000  0.500000"
      ],
      "text/html": [
       "<div>\n",
       "<style scoped>\n",
       "    .dataframe tbody tr th:only-of-type {\n",
       "        vertical-align: middle;\n",
       "    }\n",
       "\n",
       "    .dataframe tbody tr th {\n",
       "        vertical-align: top;\n",
       "    }\n",
       "\n",
       "    .dataframe thead th {\n",
       "        text-align: right;\n",
       "    }\n",
       "</style>\n",
       "<table border=\"1\" class=\"dataframe\">\n",
       "  <thead>\n",
       "    <tr style=\"text-align: right;\">\n",
       "      <th></th>\n",
       "      <th>STC</th>\n",
       "      <th>DrCIF</th>\n",
       "      <th>HC2</th>\n",
       "      <th>Dummy</th>\n",
       "    </tr>\n",
       "  </thead>\n",
       "  <tbody>\n",
       "    <tr>\n",
       "      <th>ArrowHead</th>\n",
       "      <td>0.782857</td>\n",
       "      <td>0.840000</td>\n",
       "      <td>0.868571</td>\n",
       "      <td>0.394286</td>\n",
       "    </tr>\n",
       "    <tr>\n",
       "      <th>GunPoint</th>\n",
       "      <td>1.000000</td>\n",
       "      <td>0.993333</td>\n",
       "      <td>1.000000</td>\n",
       "      <td>0.493333</td>\n",
       "    </tr>\n",
       "    <tr>\n",
       "      <th>ItalyPowerDemand</th>\n",
       "      <td>0.962099</td>\n",
       "      <td>0.968902</td>\n",
       "      <td>0.969874</td>\n",
       "      <td>0.498542</td>\n",
       "    </tr>\n",
       "    <tr>\n",
       "      <th>Chinatown</th>\n",
       "      <td>0.973761</td>\n",
       "      <td>0.985423</td>\n",
       "      <td>0.982507</td>\n",
       "      <td>0.274052</td>\n",
       "    </tr>\n",
       "    <tr>\n",
       "      <th>BeetleFly</th>\n",
       "      <td>0.950000</td>\n",
       "      <td>0.900000</td>\n",
       "      <td>0.950000</td>\n",
       "      <td>0.500000</td>\n",
       "    </tr>\n",
       "  </tbody>\n",
       "</table>\n",
       "</div>"
      ]
     },
     "execution_count": 7,
     "metadata": {},
     "output_type": "execute_result"
    }
   ],
   "execution_count": 7
  },
  {
   "cell_type": "code",
   "source": [
    "plt, _ = plot_critical_difference(np.array(table), list(table.columns))\n",
    "plt.show()"
   ],
   "metadata": {
    "collapsed": false,
    "ExecuteTime": {
     "end_time": "2024-04-25T11:13:29.044784Z",
     "start_time": "2024-04-25T11:13:28.914106Z"
    }
   },
   "outputs": [
    {
     "data": {
      "text/plain": [
       "<Figure size 600x230 with 1 Axes>"
      ],
      "image/png": "[encoded data removed]"
     },
     "metadata": {},
     "output_type": "display_data"
    }
   ],
   "execution_count": 8
  }
 ],
 "metadata": {
  "kernelspec": {
   "display_name": "Python 3",
   "language": "python",
   "name": "python3"
  },
  "language_info": {
   "codemirror_mode": {
    "name": "ipython",
    "version": 2
   },
   "file_extension": ".py",
   "mimetype": "text/x-python",
   "name": "python",
   "nbconvert_exporter": "python",
   "pygments_lexer": "ipython2",
   "version": "2.7.6"
  }
 },
 "nbformat": 4,
 "nbformat_minor": 0
}
