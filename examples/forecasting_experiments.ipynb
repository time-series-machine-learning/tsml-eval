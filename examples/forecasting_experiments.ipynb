{
 "cells": [
  {
   "cell_type": "markdown",
   "source": [
    "# Time Series Forecasting Experiments\n",
    "\n",
    "In this notebook we will show how to run a simple time series forecasting experiment using the `tsml-eval` package. Time series forecasting is the task of predicting future values of a time series.\n",
    "\n",
    "<img src=\"./images/forecasting.png\" width=\"600\" alt=\"time series classification\" style=\"margin:20px 20px\">"
   ],
   "metadata": {
    "collapsed": false
   }
  },
  {
   "cell_type": "code",
   "execution_count": null,
   "source": [
    "import numpy as np\n",
    "from aeon.datasets import load_airline\n",
    "from aeon.forecasting.model_selection import temporal_train_test_split\n",
    "\n",
    "from tsml_eval.evaluation.storage import load_forecaster_results\n",
    "from tsml_eval.experiments import (\n",
    "    experiments,\n",
    "    get_forecaster_by_name,\n",
    "    run_forecasting_experiment,\n",
    ")"
   ],
   "metadata": {
    "collapsed": false
   },
   "outputs": []
  },
  {
   "cell_type": "code",
   "execution_count": 2,
   "outputs": [],
   "source": [
    "y = load_airline()\n",
    "train, test = temporal_train_test_split(y)"
   ],
   "metadata": {
    "collapsed": false,
    "ExecuteTime": {
     "end_time": "2023-12-21T15:56:01.639286900Z",
     "start_time": "2023-12-21T15:56:01.631308700Z"
    }
   }
  },
  {
   "cell_type": "code",
   "execution_count": 3,
   "outputs": [],
   "source": [
    "# set_regressor can be used to find various regressors by string, but\n",
    "# any aeon, tsml or sklearn regressor can be used in the experiments function\n",
    "forecaster = get_forecaster_by_name(\"NaiveForecaster\")\n",
    "\n",
    "# record memory usage every 0.1 seconds, just here for notebook speed\n",
    "# does not need to be changed for usage\n",
    "experiments.MEMRECORD_INTERVAL = 0.1\n",
    "\n",
    "run_forecasting_experiment(\n",
    "    np.array(train),\n",
    "    np.array(test),\n",
    "    forecaster,\n",
    "    \"./generated_results/\",\n",
    "    dataset_name=\"Airline\",\n",
    "    random_seed=0,\n",
    ")"
   ],
   "metadata": {
    "collapsed": false,
    "ExecuteTime": {
     "end_time": "2023-12-21T15:56:02.616604100Z",
     "start_time": "2023-12-21T15:56:01.642279500Z"
    }
   }
  },
  {
   "cell_type": "markdown",
   "source": [
    "A function is also available to load the dataset as well as run an experiment, see `load_and_run_forecasting_experiment` in `tsml_eval.experiments`.\n",
    "\n",
    "Both experiment functions will output a results file in the `{results_dir}/{forecaster_name}/Predictions/{dataset_name}/` directory. These files can be loaded individually, or used as a collection in the `evaluation` module. See the [evaluation](evaluation.ipynb) notebook for more details."
   ],
   "metadata": {
    "collapsed": false
   }
  },
  {
   "cell_type": "code",
   "execution_count": 4,
   "outputs": [
    {
     "name": "stdout",
     "output_type": "stream",
     "text": [
      "[336. 336. 336. 336. 336. 336. 336. 336. 336. 336. 336. 336. 336. 336.\n",
      " 336. 336. 336. 336. 336. 336. 336. 336. 336. 336. 336. 336. 336. 336.\n",
      " 336. 336. 336. 336. 336. 336. 336. 336.]\n",
      "0.19886711926999853\n"
     ]
    }
   ],
   "source": [
    "fr = load_forecaster_results(\n",
    "    \"./generated_results/NaiveForecaster/Predictions/Airline/testResample0.csv\"\n",
    ")\n",
    "print(fr.predictions)\n",
    "print(fr.mean_absolute_percentage_error)"
   ],
   "metadata": {
    "collapsed": false,
    "ExecuteTime": {
     "end_time": "2023-12-21T15:56:02.624274500Z",
     "start_time": "2023-12-21T15:56:02.617293100Z"
    }
   }
  }
 ],
 "metadata": {
  "kernelspec": {
   "display_name": "Python 3",
   "language": "python",
   "name": "python3"
  },
  "language_info": {
   "codemirror_mode": {
    "name": "ipython",
    "version": 2
   },
   "file_extension": ".py",
   "mimetype": "text/x-python",
   "name": "python",
   "nbconvert_exporter": "python",
   "pygments_lexer": "ipython2",
   "version": "2.7.6"
  }
 },
 "nbformat": 4,
 "nbformat_minor": 0
}
