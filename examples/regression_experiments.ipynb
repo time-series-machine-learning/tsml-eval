{
 "cells": [
  {
   "cell_type": "markdown",
   "source": [
    "# Time Series Regression Experiments\n",
    "\n",
    "In this notebook we will show how to run a simple time series regression experiment using the `tsml-eval` package. Time series regression is the task of predicting a continuous value for a time series.\n",
    "\n",
    "<img src=\"./images/TSR.png\" width=\"600\" alt=\"time series regression\" style=\"margin:20px 20px\">"
   ],
   "metadata": {
    "collapsed": false
   }
  },
  {
   "cell_type": "code",
   "metadata": {
    "collapsed": true
   },
   "source": [
    "import numpy as np\n",
    "import pandas as pd\n",
    "from aeon.benchmarking import get_estimator_results\n",
    "from aeon.datasets import load_regression\n",
    "from aeon.regression import DummyRegressor\n",
    "from aeon.visualisation import plot_critical_difference\n",
    "from sklearn.metrics import mean_squared_error\n",
    "from tsml.datasets import load_minimal_gas_prices\n",
    "\n",
    "from tsml_eval.evaluation.storage import load_regressor_results\n",
    "from tsml_eval.experiments import (\n",
    "    experiments,\n",
    "    get_regressor_by_name,\n",
    "    run_regression_experiment,\n",
    ")"
   ],
   "outputs": [],
   "execution_count": null
  },
  {
   "cell_type": "code",
   "source": [
    "X_train, y_train = load_minimal_gas_prices(split=\"train\")\n",
    "X_test, y_test = load_minimal_gas_prices(split=\"test\")"
   ],
   "metadata": {
    "collapsed": false
   },
   "outputs": [],
   "execution_count": null
  },
  {
   "cell_type": "code",
   "source": [
    "# set_regressor can be used to find various regressors by string, but\n",
    "# any aeon, tsml or sklearn regressor can be used in the experiments function\n",
    "regressor = get_regressor_by_name(\"DummyRegressor\")\n",
    "\n",
    "# record memory usage every 0.1 seconds, just here for notebook speed\n",
    "# does not need to be changed for usage\n",
    "experiments.MEMRECORD_INTERVAL = 0.1\n",
    "\n",
    "run_regression_experiment(\n",
    "    X_train,\n",
    "    y_train,\n",
    "    X_test,\n",
    "    y_test,\n",
    "    regressor,\n",
    "    \"./generated_results/\",\n",
    "    dataset_name=\"GasPrices\",\n",
    "    resample_id=0,\n",
    ")"
   ],
   "metadata": {
    "collapsed": false
   },
   "outputs": [],
   "execution_count": null
  },
  {
   "cell_type": "markdown",
   "source": [
    "A function is also available to load the dataset as well as run an experiment, see `load_and_run_regression_experiment` in `tsml_eval.experiments`.\n",
    "\n",
    "Both experiment functions will output a results file in the `{results_dir}/{regressor_name}/Predictions/{dataset_name}/` directory. These files can be loaded individually, or used as a collection in the `evaluation` module. See the [evaluation](evaluation.ipynb) notebook for more details."
   ],
   "metadata": {
    "collapsed": false
   }
  },
  {
   "cell_type": "code",
   "source": [
    "rr = load_regressor_results(\n",
    "    \"./generated_results/DummyRegressor/Predictions/GasPrices/testResample0.csv\"\n",
    ")\n",
    "print(rr.predictions)\n",
    "print(rr.mean_squared_error)\n",
    "print(rr.root_mean_squared_error)\n",
    "print(rr.mean_absolute_percentage_error)\n",
    "print(rr.r2_score)"
   ],
   "metadata": {
    "collapsed": false
   },
   "outputs": [],
   "execution_count": null
  },
  {
   "cell_type": "markdown",
   "source": [
    "A common use-case is wanting to compare a new algorithm against provided benchmark results. The tsml group stores their publication results and provides an `aeon` function to load them. An example of this is shown below for regression."
   ],
   "metadata": {
    "collapsed": false
   }
  },
  {
   "cell_type": "code",
   "source": [
    "reg = DummyRegressor()\n",
    "datasets = [\n",
    "    \"CardanoSentiment\",\n",
    "    \"Covid3Month\",\n",
    "    \"FloodModeling1\",\n",
    "    \"FloodModeling2\",\n",
    "    \"NaturalGasPricesSentiment\",\n",
    "]\n",
    "\n",
    "# find RMSE for each of our datasets on our estimator\n",
    "results = {}\n",
    "for d in datasets:\n",
    "    train_X, train_y = load_regression(d, split=\"train\")\n",
    "    test_X, test_y = load_regression(d, split=\"test\")\n",
    "    reg = reg.fit(train_X, train_y)\n",
    "    y_pred = reg.predict(test_X)\n",
    "    results[d] = mean_squared_error(test_y, y_pred, squared=False)\n",
    "\n",
    "results"
   ],
   "metadata": {
    "collapsed": false
   },
   "outputs": [],
   "execution_count": null
  },
  {
   "cell_type": "code",
   "source": [
    "benchmarks = [\"InceptionE\", \"FreshPRINCE\", \"DrCIF\"]\n",
    "res = get_estimator_results(\n",
    "    datasets=datasets, estimators=benchmarks, task=\"regression\", measure=\"rmse\"\n",
    ")\n",
    "res"
   ],
   "metadata": {
    "collapsed": false
   },
   "outputs": [],
   "execution_count": null
  },
  {
   "cell_type": "code",
   "source": [
    "res[\"Dummy\"] = results\n",
    "table = pd.DataFrame(res)\n",
    "table"
   ],
   "metadata": {
    "collapsed": false
   },
   "outputs": [],
   "execution_count": null
  },
  {
   "cell_type": "code",
   "source": [
    "plt, _ = plot_critical_difference(\n",
    "    np.array(table), list(table.columns), lower_better=True\n",
    ")\n",
    "plt.show()"
   ],
   "metadata": {
    "collapsed": false
   },
   "outputs": [],
   "execution_count": null
  }
 ],
 "metadata": {
  "kernelspec": {
   "display_name": "Python 3",
   "language": "python",
   "name": "python3"
  },
  "language_info": {
   "codemirror_mode": {
    "name": "ipython",
    "version": 2
   },
   "file_extension": ".py",
   "mimetype": "text/x-python",
   "name": "python",
   "nbconvert_exporter": "python",
   "pygments_lexer": "ipython2",
   "version": "2.7.6"
  }
 },
 "nbformat": 4,
 "nbformat_minor": 0
}
