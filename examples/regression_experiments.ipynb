{
 "cells": [
  {
   "cell_type": "markdown",
   "source": [
    "# Time Series Regression Experiments\n",
    "\n",
    "In this notebook we will show how to run a simple time series regression experiment using the `tsml-eval` package. Time series regression is the task of predicting a continuous value for a time series.\n",
    "\n",
    "<img src=\"./images/TSR.png\" width=\"600\" alt=\"time series regression\" style=\"margin:20px 20px\">"
   ],
   "metadata": {
    "collapsed": false
   }
  },
  {
   "cell_type": "code",
   "metadata": {
    "collapsed": true,
    "ExecuteTime": {
     "end_time": "2024-12-05T22:45:13.988322Z",
     "start_time": "2024-12-05T22:45:13.985299Z"
    }
   },
   "source": [
    "import numpy as np\n",
    "import pandas as pd\n",
    "from aeon.benchmarking.results_loaders import get_estimator_results\n",
    "from aeon.datasets import load_regression\n",
    "from aeon.regression import DummyRegressor\n",
    "from aeon.visualisation import plot_critical_difference\n",
    "from sklearn.metrics import root_mean_squared_error\n",
    "from tsml.datasets import load_minimal_gas_prices\n",
    "\n",
    "from tsml_eval.evaluation.storage import load_regressor_results\n",
    "from tsml_eval.experiments import (\n",
    "    experiments,\n",
    "    get_regressor_by_name,\n",
    "    run_regression_experiment,\n",
    ")"
   ],
   "outputs": [],
   "execution_count": 9
  },
  {
   "cell_type": "code",
   "source": [
    "X_train, y_train = load_minimal_gas_prices(split=\"train\")\n",
    "X_test, y_test = load_minimal_gas_prices(split=\"test\")"
   ],
   "metadata": {
    "collapsed": false,
    "ExecuteTime": {
     "end_time": "2024-12-05T22:45:14.007539Z",
     "start_time": "2024-12-05T22:45:14.004467Z"
    }
   },
   "outputs": [],
   "execution_count": 10
  },
  {
   "cell_type": "code",
   "source": [
    "# set_regressor can be used to find various regressors by string, but\n",
    "# any aeon, tsml or sklearn regressor can be used in the experiments function\n",
    "regressor = get_regressor_by_name(\"DummyRegressor\")\n",
    "\n",
    "# record memory usage every 0.1 seconds, just here for notebook speed\n",
    "# does not need to be changed for usage\n",
    "experiments.MEMRECORD_INTERVAL = 0.1\n",
    "\n",
    "run_regression_experiment(\n",
    "    X_train,\n",
    "    y_train,\n",
    "    X_test,\n",
    "    y_test,\n",
    "    regressor,\n",
    "    \"./generated_results/\",\n",
    "    dataset_name=\"GasPrices\",\n",
    "    resample_id=0,\n",
    ")"
   ],
   "metadata": {
    "collapsed": false,
    "ExecuteTime": {
     "end_time": "2024-12-05T22:45:14.965698Z",
     "start_time": "2024-12-05T22:45:14.009636Z"
    }
   },
   "outputs": [],
   "execution_count": 11
  },
  {
   "cell_type": "markdown",
   "source": [
    "A function is also available to load the dataset as well as run an experiment, see `load_and_run_regression_experiment` in `tsml_eval.experiments`.\n",
    "\n",
    "Both experiment functions will output a results file in the `{results_dir}/{regressor_name}/Predictions/{dataset_name}/` directory. These files can be loaded individually, or used as a collection in the `evaluation` module. See the [evaluation](evaluation.ipynb) notebook for more details."
   ],
   "metadata": {
    "collapsed": false
   }
  },
  {
   "cell_type": "code",
   "source": [
    "rr = load_regressor_results(\n",
    "    \"./generated_results/DummyRegressor/Predictions/GasPrices/testResample0.csv\"\n",
    ")\n",
    "print(rr.predictions)\n",
    "print(rr.mean_squared_error)\n",
    "print(rr.root_mean_squared_error)\n",
    "print(rr.mean_absolute_percentage_error)\n",
    "print(rr.r2_score)"
   ],
   "metadata": {
    "collapsed": false,
    "ExecuteTime": {
     "end_time": "2024-12-05T22:45:14.978971Z",
     "start_time": "2024-12-05T22:45:14.974820Z"
    }
   },
   "outputs": [
    {
     "name": "stdout",
     "output_type": "stream",
     "text": [
      "[-0.32689179 -0.32689179 -0.32689179 -0.32689179 -0.32689179 -0.32689179\n",
      " -0.32689179 -0.32689179 -0.32689179 -0.32689179 -0.32689179 -0.32689179\n",
      " -0.32689179 -0.32689179 -0.32689179 -0.32689179 -0.32689179 -0.32689179\n",
      " -0.32689179 -0.32689179]\n",
      "0.008893058227437198\n",
      "0.09430301282269404\n",
      "0.36624719862013666\n",
      "-0.07184048625633688\n"
     ]
    }
   ],
   "execution_count": 12
  },
  {
   "cell_type": "markdown",
   "source": [
    "A common use-case is wanting to compare a new algorithm against provided benchmark results. The tsml group stores their publication results and provides an `aeon` function to load them. An example of this is shown below for regression."
   ],
   "metadata": {
    "collapsed": false
   }
  },
  {
   "cell_type": "code",
   "source": [
    "reg = DummyRegressor()\n",
    "datasets = [\n",
    "    \"CardanoSentiment\",\n",
    "    \"Covid3Month\",\n",
    "    \"FloodModeling1\",\n",
    "    \"FloodModeling2\",\n",
    "    \"NaturalGasPricesSentiment\",\n",
    "]\n",
    "\n",
    "# find RMSE for each of our datasets on our estimator\n",
    "results = {}\n",
    "for d in datasets:\n",
    "    train_X, train_y = load_regression(d, split=\"train\")\n",
    "    test_X, test_y = load_regression(d, split=\"test\")\n",
    "    reg = reg.fit(train_X, train_y)\n",
    "    y_pred = reg.predict(test_X)\n",
    "    results[d] = root_mean_squared_error(test_y, y_pred)\n",
    "\n",
    "results"
   ],
   "metadata": {
    "collapsed": false,
    "ExecuteTime": {
     "end_time": "2024-12-05T22:45:15.056258Z",
     "start_time": "2024-12-05T22:45:14.988659Z"
    }
   },
   "outputs": [
    {
     "data": {
      "text/plain": [
       "{'CardanoSentiment': 0.3002608403259928,\n",
       " 'Covid3Month': 0.04471992368682529,\n",
       " 'FloodModeling1': 0.018863328807814914,\n",
       " 'FloodModeling2': 0.018547996598852055,\n",
       " 'NaturalGasPricesSentiment': 0.09023204999410936}"
      ]
     },
     "execution_count": 13,
     "metadata": {},
     "output_type": "execute_result"
    }
   ],
   "execution_count": 13
  },
  {
   "cell_type": "code",
   "source": [
    "benchmarks = [\"InceptionT\", \"FreshPRINCE\", \"DrCIF\"]\n",
    "res = get_estimator_results(\n",
    "    datasets=datasets, estimators=benchmarks, task=\"regression\", measure=\"rmse\"\n",
    ")\n",
    "res"
   ],
   "metadata": {
    "collapsed": false,
    "ExecuteTime": {
     "end_time": "2024-12-05T22:45:15.207445Z",
     "start_time": "2024-12-05T22:45:15.133130Z"
    }
   },
   "outputs": [
    {
     "data": {
      "text/plain": [
       "{'InceptionT': {'CardanoSentiment': 0.3790249345482153,\n",
       "  'Covid3Month': 0.0547486330011963,\n",
       "  'FloodModeling1': 0.0066867519847921,\n",
       "  'FloodModeling2': 0.0043589524619258,\n",
       "  'NaturalGasPricesSentiment': 0.2406518450482171},\n",
       " 'FreshPRINCE': {'CardanoSentiment': 0.2894787944853637,\n",
       "  'Covid3Month': 0.0401913023459625,\n",
       "  'FloodModeling1': 0.0049994162451307,\n",
       "  'FloodModeling2': 0.0068567616393676,\n",
       "  'NaturalGasPricesSentiment': 0.054954074837973},\n",
       " 'DrCIF': {'CardanoSentiment': 0.3133879847892337,\n",
       "  'Covid3Month': 0.0430093286336655,\n",
       "  'FloodModeling1': 0.0060619965978605,\n",
       "  'FloodModeling2': 0.0061042553512311,\n",
       "  'NaturalGasPricesSentiment': 0.0534594028311273}}"
      ]
     },
     "execution_count": 14,
     "metadata": {},
     "output_type": "execute_result"
    }
   ],
   "execution_count": 14
  },
  {
   "cell_type": "code",
   "source": [
    "res[\"Dummy\"] = results\n",
    "table = pd.DataFrame(res)\n",
    "table"
   ],
   "metadata": {
    "collapsed": false,
    "ExecuteTime": {
     "end_time": "2024-12-05T22:45:15.220963Z",
     "start_time": "2024-12-05T22:45:15.215379Z"
    }
   },
   "outputs": [
    {
     "data": {
      "text/plain": [
       "                           InceptionT  FreshPRINCE     DrCIF     Dummy\n",
       "CardanoSentiment             0.379025     0.289479  0.313388  0.300261\n",
       "Covid3Month                  0.054749     0.040191  0.043009  0.044720\n",
       "FloodModeling1               0.006687     0.004999  0.006062  0.018863\n",
       "FloodModeling2               0.004359     0.006857  0.006104  0.018548\n",
       "NaturalGasPricesSentiment    0.240652     0.054954  0.053459  0.090232"
      ],
      "text/html": [
       "<div>\n",
       "<style scoped>\n",
       "    .dataframe tbody tr th:only-of-type {\n",
       "        vertical-align: middle;\n",
       "    }\n",
       "\n",
       "    .dataframe tbody tr th {\n",
       "        vertical-align: top;\n",
       "    }\n",
       "\n",
       "    .dataframe thead th {\n",
       "        text-align: right;\n",
       "    }\n",
       "</style>\n",
       "<table border=\"1\" class=\"dataframe\">\n",
       "  <thead>\n",
       "    <tr style=\"text-align: right;\">\n",
       "      <th></th>\n",
       "      <th>InceptionT</th>\n",
       "      <th>FreshPRINCE</th>\n",
       "      <th>DrCIF</th>\n",
       "      <th>Dummy</th>\n",
       "    </tr>\n",
       "  </thead>\n",
       "  <tbody>\n",
       "    <tr>\n",
       "      <th>CardanoSentiment</th>\n",
       "      <td>0.379025</td>\n",
       "      <td>0.289479</td>\n",
       "      <td>0.313388</td>\n",
       "      <td>0.300261</td>\n",
       "    </tr>\n",
       "    <tr>\n",
       "      <th>Covid3Month</th>\n",
       "      <td>0.054749</td>\n",
       "      <td>0.040191</td>\n",
       "      <td>0.043009</td>\n",
       "      <td>0.044720</td>\n",
       "    </tr>\n",
       "    <tr>\n",
       "      <th>FloodModeling1</th>\n",
       "      <td>0.006687</td>\n",
       "      <td>0.004999</td>\n",
       "      <td>0.006062</td>\n",
       "      <td>0.018863</td>\n",
       "    </tr>\n",
       "    <tr>\n",
       "      <th>FloodModeling2</th>\n",
       "      <td>0.004359</td>\n",
       "      <td>0.006857</td>\n",
       "      <td>0.006104</td>\n",
       "      <td>0.018548</td>\n",
       "    </tr>\n",
       "    <tr>\n",
       "      <th>NaturalGasPricesSentiment</th>\n",
       "      <td>0.240652</td>\n",
       "      <td>0.054954</td>\n",
       "      <td>0.053459</td>\n",
       "      <td>0.090232</td>\n",
       "    </tr>\n",
       "  </tbody>\n",
       "</table>\n",
       "</div>"
      ]
     },
     "execution_count": 15,
     "metadata": {},
     "output_type": "execute_result"
    }
   ],
   "execution_count": 15
  },
  {
   "cell_type": "code",
   "source": [
    "plt, _ = plot_critical_difference(\n",
    "    np.array(table), list(table.columns), lower_better=True\n",
    ")\n",
    "plt.show()"
   ],
   "metadata": {
    "collapsed": false,
    "ExecuteTime": {
     "end_time": "2024-12-05T22:45:15.260311Z",
     "start_time": "2024-12-05T22:45:15.234269Z"
    }
   },
   "outputs": [
    {
     "data": {
      "text/plain": [
       "<Figure size 600x230 with 1 Axes>"
      ],
      "image/png": "[encoded data removed]"
     },
     "metadata": {},
     "output_type": "display_data"
    }
   ],
   "execution_count": 16
  }
 ],
 "metadata": {
  "kernelspec": {
   "display_name": "Python 3",
   "language": "python",
   "name": "python3"
  },
  "language_info": {
   "codemirror_mode": {
    "name": "ipython",
    "version": 2
   },
   "file_extension": ".py",
   "mimetype": "text/x-python",
   "name": "python",
   "nbconvert_exporter": "python",
   "pygments_lexer": "ipython2",
   "version": "2.7.6"
  }
 },
 "nbformat": 4,
 "nbformat_minor": 0
}
