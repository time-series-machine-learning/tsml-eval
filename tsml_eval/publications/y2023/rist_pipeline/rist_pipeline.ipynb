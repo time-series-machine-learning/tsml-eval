{
 "cells": [
  {
   "cell_type": "markdown",
   "source": [
    "# Extracting Features from Random Subseries: A Hybrid Pipeline for Time Series Classification and Extrinsic Regression\n",
    "\n",
    "This is the webpage and repo package to support the paper \"Extracting Features from Random Subseries: A Hybrid Pipeline for Time Series Classification and Extrinsic Regression\" submitted to the International Workshop on Advanced Analytics and Learning on Temporal Data (AALTD) 2023.\n",
    "\n",
    "Our results files are stored [here](https://github.com/time-series-machine-learning/tsml-eval/tree/main/tsml_eval/publications/y2023/rist_pipeline/results).\n",
    "\n",
    "## Datasets\n",
    "\n",
    "The 112 UCR archive datasets are available at [timeseriesclassification.com](http://www.timeseriesclassification.com/dataset.php).\n",
    "\n",
    "The 63 regression datasets are available at [the archive expansion webpage](./publications/2023/tser_archive_expansion/tser_archive_expansion.ipynb).\n",
    "\n",
    "## Install\n",
    "\n",
    "To install the latest version of the package with up-to-date algorithms, run:\n",
    "\n",
    "    pip install tsml-eval\n",
    "\n",
    "To install the package at the time of publication, run:\n",
    "\n",
    "    pip install tsml-eval==0.1.0\n",
    "\n",
    "Not all estimator dependencies are installed by default. You can install these individually as required or use the following dependency groups when installing:\n",
    "\n",
    "    pip install tsml-eval[all_extras,deep_learning]\n",
    "\n",
    "RIST requires the `pycatch22` and `pyfftw` packages. To install these, run:\n",
    "\n",
    "    pip install pycatch22 pyfftw\n",
    "\n",
    "This can be unstable on setups, if you cannot install these packages they can be disabled by editing the classifier parameters (this will change the results produced) i.e.\n",
    "\n",
    "    RISTClassifier(use_pycatch22=False, use_pyfftw=False)\n",
    "\n",
    "To install dependency versions used at the time of publication, use the publication requirements.txt:\n",
    "\n",
    "    pip install -r tsml_eval/publications/2023/rist_pipeline/static_publication_reqs.txt\n",
    "\n",
    "## Usage\n",
    "\n",
    "### Command Line\n",
    "\n",
    "Run [run_classification_experiments.py](https://github.com/time-series-machine-learning/tsml-eval/blob/main/tsml_eval/publications/y2023/rist_pipeline/run_classification_experiments.py) or [run_regression_experiments.py](https://github.com/time-series-machine-learning/tsml-eval/blob/main/tsml_eval/publications/y2023/rist_pipeline/run_regression_experiments.py) with the following arguments:\n",
    "\n",
    "1. Path to the data directory\n",
    "\n",
    "2. Path to the results directory\n",
    "\n",
    "3. The name of the model to run (see [set_rist_classifier.py](https://github.com/time-series-machine-learning/tsml-eval/blob/main/tsml_eval/publications/y2023/rist_pipeline/set_rist_classifier.py) or [set_rist_regressor.py](https://github.com/time-series-machine-learning/tsml-eval/blob/main/tsml_eval/publications/y2023/rist_pipeline/set_rist_regressor.py), i.e. RIST, RDST, DrCIF)\n",
    "\n",
    "4. The name of the problem to run\n",
    "\n",
    "5. The resample number to run (0 is base train/test split)\n",
    "\n",
    "i.e. to run the ItalyPowerDemand classification problem using RIST on the base train/test split:\n",
    "\n",
    "    python tsml_eval/publications/2023/rist_pipeline/run_classification_experiments.py data/ results/ RIST ItalyPowerDemand 0\n",
    "\n",
    "### Using Classifiers and Regressors\n",
    "\n",
    "Most of our classifiers are available in the `aeon` Python package.\n",
    "\n",
    "The classifiers and regressors used in our experiments extend the `scikit-learn` interface and can also be used like their estimators:"
   ],
   "metadata": {
    "collapsed": false
   }
  },
  {
   "cell_type": "code",
   "execution_count": 7,
   "outputs": [],
   "source": [
    "import warnings\n",
    "\n",
    "warnings.filterwarnings(\"ignore\")\n",
    "\n",
    "from sklearn.metrics import accuracy_score, mean_squared_error\n",
    "from tsml.datasets import load_minimal_chinatown, load_minimal_gas_prices\n",
    "from tsml.hybrid import RISTClassifier, RISTRegressor"
   ],
   "metadata": {
    "collapsed": false,
    "ExecuteTime": {
     "end_time": "2023-07-23T21:47:48.736541200Z",
     "start_time": "2023-07-23T21:47:48.729559300Z"
    }
   }
  },
  {
   "cell_type": "markdown",
   "source": [
    "Data can be loaded using whichever method is most convenient, but should be formatted as either a 3D numpy array of shape (n_samples, n_channels, n_timesteps) or a list of length (n_samples) containing 2D numpy arrays of shape (n_channels, n_timesteps).\n",
    "\n",
    "A function is available for loading from .ts files."
   ],
   "metadata": {
    "collapsed": false
   }
  },
  {
   "cell_type": "code",
   "execution_count": 8,
   "outputs": [
    {
     "name": "stdout",
     "output_type": "stream",
     "text": [
      "<class 'numpy.ndarray'> <class 'numpy.ndarray'>\n",
      "(20, 1, 24) (20,)\n",
      "(20, 1, 24) (20,)\n"
     ]
    },
    {
     "data": {
      "text/plain": "array([[[ 573.,  375.,  301.,  212.,   55.,   34.,   25.,   33.,  113.,\n          143.,  303.,  615., 1226., 1281., 1221., 1081.,  866., 1096.,\n         1039.,  975.,  746.,  581.,  409.,  182.]],\n\n       [[ 394.,  264.,  140.,  144.,  104.,   28.,   28.,   25.,   70.,\n          153.,  401.,  649., 1216., 1399., 1249., 1240., 1109., 1137.,\n         1290., 1137.,  791.,  638.,  597.,  316.]],\n\n       [[ 603.,  348.,  176.,  177.,   47.,   30.,   40.,   42.,  101.,\n          180.,  401.,  777., 1344., 1573., 1408., 1243., 1141., 1178.,\n         1256., 1114.,  814.,  635.,  304.,  168.]],\n\n       [[ 428.,  309.,  199.,  117.,   82.,   43.,   24.,   64.,  152.,\n          183.,  408.,  797., 1288., 1491., 1523., 1460., 1365., 1520.,\n         1700., 1797., 1596., 1139.,  910.,  640.]],\n\n       [[ 372.,  310.,  203.,  133.,   65.,   39.,   27.,   36.,  107.,\n          139.,  329.,  651.,  990., 1027., 1041.,  971., 1104.,  844.,\n         1023., 1019.,  862.,  643.,  591.,  452.]]])"
     },
     "execution_count": 8,
     "metadata": {},
     "output_type": "execute_result"
    }
   ],
   "source": [
    "# load example classification dataset\n",
    "X_train_c, y_train_c = load_minimal_chinatown(\"TRAIN\")\n",
    "X_test_c, y_test_c = load_minimal_chinatown(\"TEST\")\n",
    "\n",
    "# load example regression dataset\n",
    "X_train_r, y_train_r = load_minimal_gas_prices(\"TRAIN\")\n",
    "X_test_r, y_test_r = load_minimal_gas_prices(\"TEST\")\n",
    "\n",
    "# data can be loaded from .ts files using the following function\n",
    "# from tsml.datasets import load_from_ts_file\n",
    "# X, y = load_from_ts_file(\"data/data.ts\")\n",
    "\n",
    "print(type(X_train_c), type(y_train_c))\n",
    "print(X_train_c.shape, y_train_c.shape)\n",
    "print(X_test_c.shape, y_test_c.shape)\n",
    "X_train_c[:5]"
   ],
   "metadata": {
    "collapsed": false,
    "ExecuteTime": {
     "end_time": "2023-07-23T21:47:48.744519400Z",
     "start_time": "2023-07-23T21:47:48.735543900Z"
    }
   }
  },
  {
   "cell_type": "markdown",
   "source": [
    "Classifiers and regressors can be built using the `fit` method and predictions can be made using `predict`. `predict_proba` can be used to get class probabilities for classifiers.\n",
    "\n",
    "Here we run the RIST classifier and regressor from the publication and find the accuracy and RMSE for it on our example data."
   ],
   "metadata": {
    "collapsed": false
   }
  },
  {
   "cell_type": "code",
   "execution_count": 9,
   "outputs": [
    {
     "data": {
      "text/plain": "array([1., 1., 1., 1., 1., 1., 1., 1., 1., 1., 2., 2., 1., 2., 2., 1., 2.,\n       2., 2., 2.])"
     },
     "execution_count": 9,
     "metadata": {},
     "output_type": "execute_result"
    }
   ],
   "source": [
    "rist_c = RISTClassifier(random_state=0)\n",
    "rist_c.fit(X_train_c, y_train_c)\n",
    "y_pred_c = rist_c.predict(X_test_c)\n",
    "y_pred_c"
   ],
   "metadata": {
    "collapsed": false,
    "ExecuteTime": {
     "end_time": "2023-07-23T21:47:50.645478200Z",
     "start_time": "2023-07-23T21:47:48.744519400Z"
    }
   }
  },
  {
   "cell_type": "code",
   "execution_count": 10,
   "outputs": [
    {
     "data": {
      "text/plain": "0.9"
     },
     "execution_count": 10,
     "metadata": {},
     "output_type": "execute_result"
    }
   ],
   "source": [
    "accuracy_score(y_test_c, y_pred_c)"
   ],
   "metadata": {
    "collapsed": false,
    "ExecuteTime": {
     "end_time": "2023-07-23T21:47:50.650419700Z",
     "start_time": "2023-07-23T21:47:50.645478200Z"
    }
   }
  },
  {
   "cell_type": "code",
   "execution_count": 11,
   "outputs": [
    {
     "data": {
      "text/plain": "array([-0.31689489, -0.31613551, -0.32835623, -0.39940986, -0.30016315,\n       -0.31231658, -0.25754774, -0.28900786, -0.31202351, -0.3132342 ,\n       -0.27315226, -0.38427014, -0.32339463, -0.26477721, -0.32560753,\n       -0.30756101, -0.30214585, -0.40835526, -0.38768561, -0.39179725])"
     },
     "execution_count": 11,
     "metadata": {},
     "output_type": "execute_result"
    }
   ],
   "source": [
    "rist_r = RISTRegressor(random_state=0)\n",
    "rist_r.fit(X_train_r, y_train_r)\n",
    "y_pred_r = rist_r.predict(X_test_r)\n",
    "y_pred_r"
   ],
   "metadata": {
    "collapsed": false,
    "ExecuteTime": {
     "end_time": "2023-07-23T21:47:53.549665200Z",
     "start_time": "2023-07-23T21:47:50.651418800Z"
    }
   }
  },
  {
   "cell_type": "code",
   "execution_count": 12,
   "outputs": [
    {
     "data": {
      "text/plain": "0.10593838895386118"
     },
     "execution_count": 12,
     "metadata": {},
     "output_type": "execute_result"
    }
   ],
   "source": [
    "mean_squared_error(y_test_r, y_pred_r, squared=False)"
   ],
   "metadata": {
    "collapsed": false,
    "ExecuteTime": {
     "end_time": "2023-07-23T21:47:53.554689100Z",
     "start_time": "2023-07-23T21:47:53.551660Z"
    }
   }
  }
 ],
 "metadata": {
  "kernelspec": {
   "display_name": "Python 3",
   "language": "python",
   "name": "python3"
  },
  "language_info": {
   "codemirror_mode": {
    "name": "ipython",
    "version": 2
   },
   "file_extension": ".py",
   "mimetype": "text/x-python",
   "name": "python",
   "nbconvert_exporter": "python",
   "pygments_lexer": "ipython2",
   "version": "2.7.6"
  }
 },
 "nbformat": 4,
 "nbformat_minor": 0
}
