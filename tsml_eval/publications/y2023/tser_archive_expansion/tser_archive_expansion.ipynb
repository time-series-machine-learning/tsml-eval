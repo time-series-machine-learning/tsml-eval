{
 "cells": [
  {
   "metadata": {},
   "cell_type": "markdown",
   "source": [
    "# Unsupervised Feature Based Algorithms for Time Series Extrinsic Regression\n",
    "\n",
    "This is the webpage and repo package to support the paper \"Unsupervised Feature Based Algorithms \n",
    "for Time Series Extrinsic Regression\" published in Data Mining and Knowledge Discovery.\n",
    "\n",
    "Our results files are stored [here](https://github.com/time-series-machine-learning/tsml-eval/tree/main/tsml_eval/publications/y2023/tser_archive_expansion/results).\n",
    "\n",
    "## Datasets\n",
    "\n",
    "Datasets will be uploaded individually to the [timeseriesclassification.com](http://www.timeseriesclassification.com) website in due course. For now, we provide the following links:\n",
    "\n",
    "<https://drive.google.com/file/d/1CXFof3vs6ypcqU5s5aBEZHVe2OtSVvOF/view?usp=sharing> - 63 TSER datasets\n",
    "\n",
    "## Install\n",
    "\n",
    "To install the latest version of the package with up-to-date algorithms, run:\n",
    "\n",
    "    pip install tsml-eval\n",
    "\n",
    "To install the package at the time of publication, run:\n",
    "\n",
    "    pip install tsml-eval==0.1.0\n",
    "\n",
    "Not all estimator dependencies are installed by default. You can install these individually as required or use the following dependency groups when installing:\n",
    "\n",
    "    pip install tsml-eval[all_extras,deep_learning]\n",
    "\n",
    "To install dependency versions used at the time of publication, use the publication requirements.txt:\n",
    "\n",
    "    pip install -r tsml_eval/publications/2023/tser_archive_expansion/static_publication_reqs.txt\n",
    "\n",
    "## Usage\n",
    "\n",
    "### Command Line\n",
    "\n",
    "Run [run_experiments.py](https://github.com/time-series-machine-learning/tsml-eval/blob/main/tsml_eval/publications/y2023/tser_archive_expansion/run_experiments.py) with the following arguments:\n",
    "\n",
    "1. Path to the data directory\n",
    "\n",
    "2. Path to the results directory\n",
    "\n",
    "3. The name of the model to run (see [set_tser_exp_regressor.py](https://github.com/time-series-machine-learning/tsml-eval/blob/main/tsml_eval/publications/y2023/tser_archive_expansion/set_tser_exp_regressor.py), i.e. Ridge, DrCIF, InceptionE)\n",
    "\n",
    "4. The name of the problem to run\n",
    "\n",
    "5. The resample number to run (0 is base train/test split)\n",
    "\n",
    "i.e. to run Covid3Month using linear regression on the base train/test split:\n",
    "\n",
    "    python tsml_eval/publications/2023/tser_archive_expansion/run_experiments.py data/ results/ Ridge Covid3Month 0\n",
    "\n",
    "### Using Regressors\n",
    "\n",
    "The regressors used in our experiments extend the `scikit-learn` interface and can also be used like their estimators:"
   ]
  },
  {
   "cell_type": "code",
   "source": [
    "from aeon.regression.convolution_based import RocketRegressor\n",
    "from sklearn.metrics import mean_squared_error\n",
    "from tsml.datasets import load_minimal_gas_prices\n",
    "\n",
    "from tsml_eval.estimators import SklearnToTsmlRegressor\n",
    "from tsml_eval.publications.y2023.tser_archive_expansion import _set_tser_exp_regressor\n",
    "from tsml_eval.utils.estimator_validation import is_sklearn_regressor"
   ],
   "metadata": {
    "collapsed": false,
    "ExecuteTime": {
     "end_time": "2024-04-23T11:49:31.813513Z",
     "start_time": "2024-04-23T11:49:28.312416Z"
    }
   },
   "outputs": [],
   "execution_count": 1
  },
  {
   "cell_type": "markdown",
   "source": [
    "Data can be loaded using whichever method is most convenient, but should be formatted as either a 3D numpy array of shape (n_samples, n_channels, n_timesteps) or a list of length (n_samples) containing 2D numpy arrays of shape (n_channels, n_timesteps).\n",
    "\n",
    "A function is available for loading from .ts files."
   ],
   "metadata": {
    "collapsed": false
   }
  },
  {
   "cell_type": "code",
   "source": [
    "# load example TSER dataset\n",
    "X_train, y_train = load_minimal_gas_prices(\"TRAIN\")\n",
    "X_test, y_test = load_minimal_gas_prices(\"TEST\")\n",
    "\n",
    "# data can be loaded from .ts files using the following function\n",
    "# from tsml.datasets import load_from_ts_file\n",
    "# X, y = load_from_ts_file(\"data/data.ts\")\n",
    "\n",
    "print(type(X_train), type(y_train))\n",
    "print(X_train.shape, y_train.shape)\n",
    "print(X_test.shape, y_test.shape)\n",
    "X_train[:5]"
   ],
   "metadata": {
    "collapsed": false,
    "ExecuteTime": {
     "end_time": "2024-04-23T11:49:31.825482Z",
     "start_time": "2024-04-23T11:49:31.814510Z"
    }
   },
   "outputs": [
    {
     "name": "stdout",
     "output_type": "stream",
     "text": [
      "<class 'numpy.ndarray'> <class 'numpy.ndarray'>\n",
      "(20, 1, 20) (20,)\n",
      "(20, 1, 20) (20,)\n"
     ]
    },
    {
     "data": {
      "text/plain": [
       "array([[[2.39, 2.36, 2.45, 2.45, 2.54, 2.69, 2.63, 2.73, 2.7 , 2.73,\n",
       "         2.68, 2.76, 2.76, 2.68, 2.39, 2.4 , 2.36, 2.6 , 2.77, 2.76]],\n",
       "\n",
       "       [[3.02, 3.09, 3.01, 3.01, 2.98, 3.11, 3.13, 3.13, 3.23, 3.36,\n",
       "         3.31, 3.25, 3.24, 3.23, 3.15, 3.21, 3.36, 3.3 , 3.4 , 3.62]],\n",
       "\n",
       "       [[3.95, 4.03, 4.07, 4.35, 4.25, 4.33, 4.45, 4.65, 4.77, 4.71,\n",
       "         4.66, 4.97, 5.13, 5.21, 5.39, 5.66, 5.52, 5.32, 5.25, 4.96]],\n",
       "\n",
       "       [[2.62, 2.63, 2.63, 2.71, 2.71, 2.72, 2.58, 2.58, 2.58, 2.62,\n",
       "         2.61, 2.67, 2.57, 2.59, 2.63, 2.59, 2.59, 2.5 , 2.55, 2.55]],\n",
       "\n",
       "       [[2.44, 2.43, 2.47, 2.48, 2.5 , 2.57, 2.65, 2.62, 2.63, 2.75,\n",
       "         2.76, 2.72, 2.77, 2.79, 2.73, 2.91, 2.98, 2.91, 2.86, 2.96]]])"
      ]
     },
     "execution_count": 2,
     "metadata": {},
     "output_type": "execute_result"
    }
   ],
   "execution_count": 2
  },
  {
   "cell_type": "markdown",
   "source": [
    "Regressors can be built using the `fit` method and predictions can be made using `predict`."
   ],
   "metadata": {
    "collapsed": false
   }
  },
  {
   "cell_type": "code",
   "source": [
    "# build a ROCKET regressor and make predictions\n",
    "rocket = RocketRegressor(num_kernels=1000, random_state=0)\n",
    "rocket.fit(X_train, y_train)\n",
    "rocket.predict(X_test)"
   ],
   "metadata": {
    "collapsed": false,
    "ExecuteTime": {
     "end_time": "2024-04-23T11:49:31.848420Z",
     "start_time": "2024-04-23T11:49:31.826488Z"
    }
   },
   "outputs": [
    {
     "data": {
      "text/plain": [
       "array([-0.39051194, -0.32556358, -0.26716222, -0.29462747, -0.38713609,\n",
       "       -0.35210252, -0.35538663, -0.34188738, -0.386536  , -0.38444336,\n",
       "       -0.28417025, -0.34912216, -0.3575563 , -0.29534897, -0.3730631 ,\n",
       "       -0.40209279, -0.31955412, -0.34667809, -0.37519843, -0.38101579])"
      ]
     },
     "execution_count": 3,
     "metadata": {},
     "output_type": "execute_result"
    }
   ],
   "execution_count": 3
  },
  {
   "cell_type": "markdown",
   "source": [
    "Here we run some of the regressors from the publication and find the RMSE for them on our example dataset."
   ],
   "metadata": {
    "collapsed": false
   }
  },
  {
   "cell_type": "code",
   "source": [
    "regressors = [\n",
    "    \"1NN-DTW\",\n",
    "    \"1NN-ED\",\n",
    "    \"FPCR-Bs\",\n",
    "    \"RandF\",\n",
    "    \"ROCKET\",\n",
    "]\n",
    "\n",
    "rmse = []\n",
    "for regressor_name in regressors:\n",
    "    # Select a regressor by name, see set_tser_exp_regressor.py for options\n",
    "    regressor = _set_tser_exp_regressor(regressor_name, random_state=0)\n",
    "\n",
    "    # if it is a sklearn regressor, wrap it to work with time series data\n",
    "    if is_sklearn_regressor(regressor):\n",
    "        regressor = SklearnToTsmlRegressor(\n",
    "            regressor=regressor, concatenate_channels=True, random_state=0\n",
    "        )\n",
    "\n",
    "    # fit and predict\n",
    "    regressor.fit(X_train, y_train)\n",
    "    y_pred = regressor.predict(X_test)\n",
    "    rmse.append(mean_squared_error(y_test, y_pred, squared=False))\n",
    "\n",
    "rmse"
   ],
   "metadata": {
    "collapsed": false,
    "ExecuteTime": {
     "end_time": "2024-04-23T11:49:33.045134Z",
     "start_time": "2024-04-23T11:49:31.849418Z"
    }
   },
   "outputs": [
    {
     "data": {
      "text/plain": [
       "[0.0807299822065842,\n",
       " 0.08058022963859234,\n",
       " 1.3423714791418515,\n",
       " 0.0742857643859832,\n",
       " 0.10120786111499722]"
      ]
     },
     "execution_count": 4,
     "metadata": {},
     "output_type": "execute_result"
    }
   ],
   "execution_count": 4
  },
  {
   "cell_type": "markdown",
   "source": [],
   "metadata": {
    "collapsed": false
   }
  }
 ],
 "metadata": {
  "kernelspec": {
   "display_name": "Python 3",
   "language": "python",
   "name": "python3"
  },
  "language_info": {
   "codemirror_mode": {
    "name": "ipython",
    "version": 2
   },
   "file_extension": ".py",
   "mimetype": "text/x-python",
   "name": "python",
   "nbconvert_exporter": "python",
   "pygments_lexer": "ipython2",
   "version": "2.7.6"
  }
 },
 "nbformat": 4,
 "nbformat_minor": 0
}
